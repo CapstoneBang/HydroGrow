{
  "nbformat": 4,
  "nbformat_minor": 0,
  "metadata": {
    "colab": {
      "provenance": []
    },
    "kernelspec": {
      "name": "python3",
      "display_name": "Python 3"
    },
    "language_info": {
      "name": "python"
    }
  },
  "cells": [
    {
      "cell_type": "code",
      "execution_count": null,
      "metadata": {
        "colab": {
          "base_uri": "https://localhost:8080/"
        },
        "id": "OnACwIFv56y_",
        "outputId": "793e8e9e-cad6-4fae-d6a8-72905a39d6f1"
      },
      "outputs": [
        {
          "output_type": "stream",
          "name": "stderr",
          "text": [
            "WARNING:tensorflow:From <ipython-input-1-1c336d1522d8>:4: is_gpu_available (from tensorflow.python.framework.test_util) is deprecated and will be removed in a future version.\n",
            "Instructions for updating:\n",
            "Use `tf.config.list_physical_devices('GPU')` instead.\n"
          ]
        },
        {
          "output_type": "stream",
          "name": "stdout",
          "text": [
            "Mounted at /content/drive\n",
            "GPU Available:  False\n"
          ]
        }
      ],
      "source": [
        "import tensorflow as tf\n",
        "from google.colab import drive\n",
        "drive.mount('/content/drive')\n",
        "print(\"GPU Available: \", tf.test.is_gpu_available())"
      ]
    },
    {
      "cell_type": "code",
      "source": [
        "\n",
        "import os\n",
        "import cv2\n",
        "\n",
        "input_folder = \"/content/drive/MyDrive/Dataset\"\n",
        "output_folder = \"/content/drive/MyDrive/Dataset224\"\n",
        "\n",
        "# Membuat folder output jika belum ada\n",
        "os.makedirs(output_folder, exist_ok=True)\n",
        "\n",
        "categories = [\"Bayam Gagal Panen\", \"Selada Gagal Panen\", \"Pakcoy Gagal Panen\",\n",
        "              \"Bayam Siap Panen\", \"Selada Siap Panen\", \"Pakcoy Siap Panen\"]\n",
        "\n",
        "for category in categories:\n",
        "    category_input_folder = os.path.join(input_folder, category)\n",
        "    category_output_folder = os.path.join(output_folder, category)\n",
        "    os.makedirs(category_output_folder, exist_ok=True)\n",
        "\n",
        "    images = os.listdir(category_input_folder)\n",
        "\n",
        "    for image_name in images:\n",
        "        image_path = os.path.join(category_input_folder, image_name)\n",
        "        output_image_path = os.path.join(category_output_folder, image_name)\n",
        "\n",
        "        if os.path.isfile(image_path):\n",
        "            # Baca gambar\n",
        "            img = cv2.imread(image_path)\n",
        "\n",
        "            # Normalisasi ukuran menjadi 224x224\n",
        "            img = cv2.resize(img, (224, 224))\n",
        "\n",
        "            # Simpan gambar yang sudah dinormalisasi\n",
        "            cv2.imwrite(output_image_path, img)"
      ],
      "metadata": {
        "id": "hrP-1b2c5_mf"
      },
      "execution_count": null,
      "outputs": []
    },
    {
      "cell_type": "code",
      "source": [
        "import os\n",
        "\n",
        "output_folder = \"/content/drive/MyDrive/Dataset224\"\n",
        "\n",
        "categories = [\"Bayam Gagal Panen\", \"Selada Gagal Panen\", \"Pakcoy Gagal Panen\",\n",
        "              \"Bayam Siap Panen\", \"Selada Siap Panen\", \"Pakcoy Siap Panen\"]\n",
        "\n",
        "for category in categories:\n",
        "    category_folder = os.path.join(output_folder, category)\n",
        "    file_count = len(os.listdir(category_folder))\n",
        "    print(f\"Jumlah file pada folder {category}: {file_count}\")\n"
      ],
      "metadata": {
        "colab": {
          "base_uri": "https://localhost:8080/"
        },
        "id": "Ea9Gwtfu7Fsv",
        "outputId": "71da56e8-5242-4575-da38-2f9b978d90dc"
      },
      "execution_count": null,
      "outputs": [
        {
          "output_type": "stream",
          "name": "stdout",
          "text": [
            "Jumlah file pada folder Bayam Gagal Panen: 130\n",
            "Jumlah file pada folder Selada Gagal Panen: 150\n",
            "Jumlah file pada folder Pakcoy Gagal Panen: 100\n",
            "Jumlah file pada folder Bayam Siap Panen: 150\n",
            "Jumlah file pada folder Selada Siap Panen: 146\n",
            "Jumlah file pada folder Pakcoy Siap Panen: 150\n"
          ]
        }
      ]
    },
    {
      "cell_type": "code",
      "source": [
        "import os\n",
        "import shutil\n",
        "import random\n",
        "\n",
        "# Tentukan path dataset\n",
        "dataset_path = \"/content/drive/MyDrive/Dataset\"\n",
        "\n",
        "# Tentukan path output untuk menyimpan dataset terbagi\n",
        "output_path = \"/content/drive/MyDrive/DatasetSplit80\"\n",
        "\n",
        "# Buat direktori output jika belum ada\n",
        "os.makedirs(output_path, exist_ok=True)\n",
        "\n",
        "# Membaca nama file dari setiap kelas\n",
        "bgp_files = os.listdir(os.path.join(dataset_path, \"Bayam Gagal Panen\"))\n",
        "pgp_files = os.listdir(os.path.join(dataset_path, \"Pakcoy Gagal Panen\"))\n",
        "sgp_files = os.listdir(os.path.join(dataset_path, \"Selada Gagal Panen\"))\n",
        "bsp_files = os.listdir(os.path.join(dataset_path, \"Bayam Siap Panen\"))\n",
        "psp_files = os.listdir(os.path.join(dataset_path, \"Pakcoy Siap Panen\"))\n",
        "ssp_files = os.listdir(os.path.join(dataset_path, \"Selada Siap Panen\"))\n",
        "\n",
        "# Menggabungkan semua kategori\n",
        "all_files = {\n",
        "    \"Bayam Gagal Panen\": bgp_files,\n",
        "    \"Pakcoy Gagal Panen\": pgp_files,\n",
        "    \"Selada Gagal Panen\": sgp_files,\n",
        "    \"Bayam Siap Panen\": bsp_files,\n",
        "    \"Pakcoy Siap Panen\": psp_files,\n",
        "    \"Selada Siap Panen\": ssp_files\n",
        "}\n",
        "\n",
        "# Mengacak urutan file di setiap kategori\n",
        "for category in all_files:\n",
        "    random.shuffle(all_files[category])\n",
        "\n",
        "# Tentukan rasio pembagian dataset\n",
        "train_ratio = 0.8\n",
        "validation_ratio = 0.1\n",
        "test_ratio = 0.1\n",
        "\n",
        "# Memisahkan dataset menjadi bagian pelatihan, validasi, dan pengujian\n",
        "train_data = {}\n",
        "validation_data = {}\n",
        "test_data = {}\n",
        "\n",
        "for category, files in all_files.items():\n",
        "    total_files = len(files)\n",
        "    train_split = int(train_ratio * total_files)\n",
        "    validation_split = int(validation_ratio * total_files)\n",
        "\n",
        "    train_data[category] = files[:train_split]\n",
        "    validation_data[category] = files[train_split:train_split+validation_split]\n",
        "    test_data[category] = files[train_split+validation_split:]\n",
        "\n",
        "# Fungsi untuk memindahkan file ke direktori output\n",
        "def move_files(files, source_path, destination_path):\n",
        "    for file in files:\n",
        "        source_file = os.path.join(source_path, file)\n",
        "        destination_file = os.path.join(destination_path, file)\n",
        "        shutil.copyfile(source_file, destination_file)\n",
        "\n",
        "# Memindahkan file ke direktori output\n",
        "for category, files in train_data.items():\n",
        "    source_path = os.path.join(dataset_path, category)\n",
        "    destination_path = os.path.join(output_path, \"train\", category)\n",
        "    os.makedirs(destination_path, exist_ok=True)\n",
        "    move_files(files, source_path, destination_path)\n",
        "\n",
        "for category, files in validation_data.items():\n",
        "    source_path = os.path.join(dataset_path, category)\n",
        "    destination_path = os.path.join(output_path, \"validation\", category)\n",
        "    os.makedirs(destination_path, exist_ok=True)\n",
        "    move_files(files, source_path, destination_path)\n",
        "\n",
        "for category, files in test_data.items():\n",
        "    source_path = os.path.join(dataset_path, category)\n",
        "    destination_path = os.path.join(output_path, \"test\", category)\n",
        "    os.makedirs(destination_path, exist_ok=True)\n",
        "    move_files(files, source_path, destination_path)\n",
        "\n",
        "print(\"Split Data Telah Selesai!\")"
      ],
      "metadata": {
        "colab": {
          "base_uri": "https://localhost:8080/"
        },
        "id": "ISnty0AA7atg",
        "outputId": "bd8a08bb-af80-4886-8041-4629b355a1e8"
      },
      "execution_count": null,
      "outputs": [
        {
          "output_type": "stream",
          "name": "stdout",
          "text": [
            "Split Data Telah Selesai!\n"
          ]
        }
      ]
    },
    {
      "cell_type": "code",
      "source": [
        "import os\n",
        "\n",
        "train_folder = \"/content/drive/MyDrive/DatasetSplit80/train\"\n",
        "validation_folder = \"/content/drive/MyDrive/DatasetSplit80/validation\"\n",
        "test_folder = \"/content/drive/MyDrive/DatasetSplit80/test\"\n",
        "\n",
        "categories = [\"Bayam Gagal Panen\", \"Selada Gagal Panen\", \"Pakcoy Gagal Panen\",\n",
        "              \"Bayam Siap Panen\", \"Selada Siap Panen\", \"Pakcoy Siap Panen\"]\n",
        "\n",
        "print(\"TRAIN\")\n",
        "for category in categories:\n",
        "    category_folder = os.path.join(train_folder, category)\n",
        "    file_count = len(os.listdir(category_folder))\n",
        "    print(f\"Jumlah file pada folder {category}: {file_count}\")\n",
        "print(\"VALIDATION\")\n",
        "for category in categories:\n",
        "    category_folder = os.path.join(validation_folder, category)\n",
        "    file_count = len(os.listdir(category_folder))\n",
        "    print(f\"Jumlah file pada folder {category}: {file_count}\")\n",
        "print(\"TEST\")\n",
        "for category in categories:\n",
        "    category_folder = os.path.join(test_folder, category)\n",
        "    file_count = len(os.listdir(category_folder))\n",
        "    print(f\"Jumlah file pada folder {category}: {file_count}\")"
      ],
      "metadata": {
        "colab": {
          "base_uri": "https://localhost:8080/"
        },
        "id": "nUDEaHjR8kpI",
        "outputId": "1208738f-64e9-4456-9c57-61999d81fff8"
      },
      "execution_count": null,
      "outputs": [
        {
          "output_type": "stream",
          "name": "stdout",
          "text": [
            "TRAIN\n",
            "Jumlah file pada folder Bayam Gagal Panen: 130\n",
            "Jumlah file pada folder Selada Gagal Panen: 150\n",
            "Jumlah file pada folder Pakcoy Gagal Panen: 100\n",
            "Jumlah file pada folder Bayam Siap Panen: 149\n",
            "Jumlah file pada folder Selada Siap Panen: 116\n",
            "Jumlah file pada folder Pakcoy Siap Panen: 144\n",
            "VALIDATION\n",
            "Jumlah file pada folder Bayam Gagal Panen: 25\n",
            "Jumlah file pada folder Selada Gagal Panen: 27\n",
            "Jumlah file pada folder Pakcoy Gagal Panen: 20\n",
            "Jumlah file pada folder Bayam Siap Panen: 28\n",
            "Jumlah file pada folder Selada Siap Panen: 14\n",
            "Jumlah file pada folder Pakcoy Siap Panen: 15\n",
            "TEST\n",
            "Jumlah file pada folder Bayam Gagal Panen: 25\n",
            "Jumlah file pada folder Selada Gagal Panen: 29\n",
            "Jumlah file pada folder Pakcoy Gagal Panen: 20\n",
            "Jumlah file pada folder Bayam Siap Panen: 29\n",
            "Jumlah file pada folder Selada Siap Panen: 16\n",
            "Jumlah file pada folder Pakcoy Siap Panen: 15\n"
          ]
        }
      ]
    }
  ]
}
